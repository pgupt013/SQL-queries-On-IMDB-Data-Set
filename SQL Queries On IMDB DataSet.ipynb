{
 "cells": [
  {
   "cell_type": "markdown",
   "metadata": {
    "id": "hmzI5oZ6E_Hp"
   },
   "source": [
    "# SQL Assignment"
   ]
  },
  {
   "cell_type": "code",
   "execution_count": 1,
   "metadata": {
    "id": "wso5pGwnE_Ht"
   },
   "outputs": [],
   "source": [
    "import pandas as pd\n",
    "import sqlite3\n",
    "\n",
    "from IPython.display import display, HTML"
   ]
  },
  {
   "cell_type": "code",
   "execution_count": 2,
   "metadata": {
    "id": "uMYMAPLm23sp"
   },
   "outputs": [],
   "source": [
    "# Note that this is not the same db we have used in course videos, please download from this link\n",
    "# https://drive.google.com/file/d/1O-1-L1DdNxEK6O6nG2jS31MbrMh-OnXM/view?usp=sharing"
   ]
  },
  {
   "cell_type": "code",
   "execution_count": 3,
   "metadata": {
    "id": "xrUl9ShkE_H0"
   },
   "outputs": [],
   "source": [
    "conn = sqlite3.connect(\"C:\\\\Users\\\\poonam\\\\Desktop\\\\FIU\\\\Applied AI Course\\\\Assignment 18 - SQL\\\\Db-IMDB-Assignment.db\")\n",
    "cursor=conn.cursor()"
   ]
  },
  {
   "cell_type": "markdown",
   "metadata": {
    "id": "Z_ADQl2BE_H6"
   },
   "source": [
    "#### Overview of all tables"
   ]
  },
  {
   "cell_type": "code",
   "execution_count": null,
   "metadata": {},
   "outputs": [],
   "source": [
    "### to see all the tables in the database \n",
    "tables = pd.read_sql_query(\"SELECT NAME AS 'Table_Name' FROM sqlite_master WHERE type='table'\",conn)\n",
    "tables = tables[\"Table_Name\"].values.tolist()"
   ]
  },
  {
   "cell_type": "code",
   "execution_count": null,
   "metadata": {
    "id": "7ZfheusYE_H7",
    "scrolled": true
   },
   "outputs": [],
   "source": [
    "### to see the names of all tables\n",
    "print(tables)"
   ]
  },
  {
   "cell_type": "code",
   "execution_count": null,
   "metadata": {
    "colab": {
     "base_uri": "https://localhost:8080/",
     "height": 1000
    },
    "executionInfo": {
     "elapsed": 1573,
     "status": "ok",
     "timestamp": 1609076958858,
     "user": {
      "displayName": "Applied AI Course",
      "photoUrl": "https://lh3.googleusercontent.com/a-/AOh14GhuSQ5tWcMSEyUXWi5GYagbq0BttLJf6r6PPxrB=s64",
      "userId": "00484516897554883881"
     },
     "user_tz": -330
    },
    "id": "f3zLh5FGE_H_",
    "outputId": "a443d072-a22f-4d15-bff8-0b8a4ee78d5c",
    "scrolled": true
   },
   "outputs": [],
   "source": [
    "for table in tables:\n",
    "    query = \"PRAGMA TABLE_INFO({})\".format(table)\n",
    "    schema = pd.read_sql_query(query,conn)\n",
    "    print(\"Schema of\",table)\n",
    "    display(schema)\n",
    "    print(\"-\"*100)\n",
    "    print(\"\\n\")"
   ]
  },
  {
   "cell_type": "markdown",
   "metadata": {
    "id": "O4Cj0Wdz23tA"
   },
   "source": [
    "## Useful tips:\n",
    "\n",
    "1. the year column in 'Movie' table, will have few chracters other than numbers which you need to be preprocessed, you need to get a substring of last 4 characters, its better if you convert it as int type, ex: CAST(SUBSTR(TRIM(m.year),-4) AS INTEGER)\n",
    "\n",
    "2. For almost all the TEXT columns we have show, please try to remove trailing spaces, you need to use TRIM() function\n",
    "\n",
    "3. When you are doing count(coulmn) it won't consider the \"NULL\" values, you might need to explore other alternatives like Count(*)"
   ]
  },
  {
   "cell_type": "markdown",
   "metadata": {},
   "source": [
    "## Updates in Movie table"
   ]
  },
  {
   "cell_type": "code",
   "execution_count": null,
   "metadata": {},
   "outputs": [],
   "source": [
    "### to see the content in the Movie table\n",
    "cursor.execute(\"select * from Movie\")\n",
    "result=cursor.fetchall()\n",
    "#print(result)"
   ]
  },
  {
   "cell_type": "code",
   "execution_count": null,
   "metadata": {},
   "outputs": [],
   "source": [
    "### Update the year column by selecting the last 4 digits and by conveting it into intger values\n",
    "cursor.execute(\"update Movie set year=cast(SUBSTR(TRIM(year),-4) as integer)\")"
   ]
  },
  {
   "cell_type": "code",
   "execution_count": null,
   "metadata": {},
   "outputs": [],
   "source": [
    "### Remove the trailing spaces,\n",
    "cursor.execute(\"update Movie set title=TRIM(title)\")"
   ]
  },
  {
   "cell_type": "code",
   "execution_count": null,
   "metadata": {},
   "outputs": [],
   "source": [
    "cursor.execute(\"update Movie set MID=TRIM(MID)\")"
   ]
  },
  {
   "cell_type": "code",
   "execution_count": null,
   "metadata": {},
   "outputs": [],
   "source": [
    "conn.commit()"
   ]
  },
  {
   "cell_type": "code",
   "execution_count": null,
   "metadata": {},
   "outputs": [],
   "source": [
    "conn.close()"
   ]
  },
  {
   "cell_type": "markdown",
   "metadata": {},
   "source": [
    "## Updates in Genre table "
   ]
  },
  {
   "cell_type": "code",
   "execution_count": null,
   "metadata": {},
   "outputs": [],
   "source": [
    "### to see the contents in Genre table\n",
    "cursor.execute(\"select * from Genre\")\n",
    "result=cursor.fetchall()\n",
    "#print(result)"
   ]
  },
  {
   "cell_type": "code",
   "execution_count": null,
   "metadata": {},
   "outputs": [],
   "source": [
    "cursor.execute(\"update Genre set Name=TRIM(Name)\")"
   ]
  },
  {
   "cell_type": "code",
   "execution_count": null,
   "metadata": {},
   "outputs": [],
   "source": [
    "conn.commit()"
   ]
  },
  {
   "cell_type": "code",
   "execution_count": null,
   "metadata": {},
   "outputs": [],
   "source": [
    "conn.close()"
   ]
  },
  {
   "cell_type": "markdown",
   "metadata": {},
   "source": [
    "## updates in Language table "
   ]
  },
  {
   "cell_type": "code",
   "execution_count": null,
   "metadata": {},
   "outputs": [],
   "source": [
    "cursor.execute(\"select * from Language\")\n",
    "result=cursor.fetchall()\n",
    "print(result)"
   ]
  },
  {
   "cell_type": "markdown",
   "metadata": {},
   "source": [
    "## Updates in Country table "
   ]
  },
  {
   "cell_type": "code",
   "execution_count": null,
   "metadata": {},
   "outputs": [],
   "source": [
    "cursor.execute(\"select * from Country\")\n",
    "result=cursor.fetchall()\n",
    "print(result)"
   ]
  },
  {
   "cell_type": "markdown",
   "metadata": {},
   "source": [
    "## Updates in Location table"
   ]
  },
  {
   "cell_type": "code",
   "execution_count": null,
   "metadata": {},
   "outputs": [],
   "source": [
    "cursor.execute(\"select * from Location\")\n",
    "result=cursor.fetchall()\n",
    "#print(result)"
   ]
  },
  {
   "cell_type": "markdown",
   "metadata": {},
   "source": [
    "## Updates in M_Cast table"
   ]
  },
  {
   "cell_type": "code",
   "execution_count": null,
   "metadata": {},
   "outputs": [],
   "source": [
    "cursor.execute(\"select * from M_Cast\")\n",
    "result=cursor.fetchone()\n",
    "print(result)"
   ]
  },
  {
   "cell_type": "code",
   "execution_count": null,
   "metadata": {},
   "outputs": [],
   "source": [
    "cursor.execute(\"update M_Cast set MID=TRIM(MID)\")"
   ]
  },
  {
   "cell_type": "code",
   "execution_count": null,
   "metadata": {},
   "outputs": [],
   "source": [
    "cursor.execute(\"update M_Cast set PID=TRIM(PID)\")"
   ]
  },
  {
   "cell_type": "code",
   "execution_count": null,
   "metadata": {},
   "outputs": [],
   "source": [
    "conn.commit()"
   ]
  },
  {
   "cell_type": "code",
   "execution_count": null,
   "metadata": {},
   "outputs": [],
   "source": [
    "conn.close()"
   ]
  },
  {
   "cell_type": "markdown",
   "metadata": {},
   "source": [
    "## Updates in Person table "
   ]
  },
  {
   "cell_type": "code",
   "execution_count": null,
   "metadata": {},
   "outputs": [],
   "source": [
    "cursor.execute(\"select * from Person\")\n",
    "result=cursor.fetchall()\n",
    "print(result)"
   ]
  },
  {
   "cell_type": "code",
   "execution_count": null,
   "metadata": {},
   "outputs": [],
   "source": [
    "cursor.execute(\"update Person set Gender=TRIM(Gender)\")"
   ]
  },
  {
   "cell_type": "code",
   "execution_count": null,
   "metadata": {},
   "outputs": [],
   "source": [
    "cursor.execute(\"update Person set Name=TRIM(Name)\")"
   ]
  },
  {
   "cell_type": "code",
   "execution_count": null,
   "metadata": {},
   "outputs": [],
   "source": [
    "cursor.execute(\"update Person set PID=TRIM(PID)\")"
   ]
  },
  {
   "cell_type": "code",
   "execution_count": null,
   "metadata": {},
   "outputs": [],
   "source": [
    "conn.commit()"
   ]
  },
  {
   "cell_type": "markdown",
   "metadata": {
    "id": "jL9AmM3oE_IZ"
   },
   "source": [
    "## Q1 --- List all the directors who directed a 'Comedy' movie in a leap year. (You need to check that the genre is 'Comedy’ and year is a leap year) Your query should return director name, the movie name, and the year."
   ]
  },
  {
   "cell_type": "markdown",
   "metadata": {
    "id": "1jglmxDuE_Ib"
   },
   "source": [
    "<h4>To determine whether a year is a leap year, follow these steps:</h4>\n",
    "\n",
    "<ul>\n",
    "    <li><b>STEP-1:</b> If the year is evenly divisible by 4, go to step 2. Otherwise, go to step 5.</li>\n",
    "    <li><b>STEP-2:</b> If the year is evenly divisible by 100, go to step 3. Otherwise, go to step 4.</li>\n",
    "    <li><b>STEP-3:</b> If the year is evenly divisible by 400, go to step 4. Otherwise, go to step 5.</li>\n",
    "    <li><b>STEP-4:</b> The year is a leap year (it has 366 days).</li>\n",
    "    <li><b>STEP-5:</b> The year is not a leap year (it has 365 days).</li>\n",
    "</ul>\n",
    "\n",
    "Year 1900 is divisible by 4 and 100 but it is not divisible by 400, so it is not a leap year."
   ]
  },
  {
   "cell_type": "code",
   "execution_count": 4,
   "metadata": {},
   "outputs": [
    {
     "name": "stdout",
     "output_type": "stream",
     "text": [
      "                               title              Name  year\n",
      "0                         Mastizaade      Milap Zaveri  2016\n",
      "1  Harold & Kumar Go to White Castle      Danny Leiner  2004\n",
      "2                 Gangs of Wasseypur    Anurag Kashyap  2012\n",
      "3        Around the World in 80 Days      Frank Coraci  2004\n",
      "4             The Accidental Husband     Griffin Dunne  2008\n",
      "5                             Barfi!       Anurag Basu  2012\n",
      "6                  Bride & Prejudice   Gurinder Chadha  2004\n",
      "7    Beavis and Butt-Head Do America        Mike Judge  1996\n",
      "8                            Dostana  Tarun Mansukhani  2008\n",
      "9                      Kapoor & Sons      Shakun Batra  2016\n",
      "Wall time: 187 ms\n"
     ]
    }
   ],
   "source": [
    "%%time\n",
    "def grader_1(q1):\n",
    "    q1_results  = pd.read_sql_query(q1,conn)\n",
    "    print(q1_results.head(10))\n",
    "    assert (q1_results.shape == (232,3))\n",
    "\n",
    "query1 = \"\"\" \n",
    "\n",
    "select m.Title,p.Name,m.year\n",
    "from Movie m \n",
    "join M_director d on m.MID = d.MID \n",
    "join Person p on d.PID = p.PID \n",
    "join M_Genre mg on m.MID = mg.MID \n",
    "join Genre g on g.GID = mg.GID\n",
    "where g.Name like '%Comedy%' AND (m.year%4 = 0 AND m.year % 100 <> 0 OR  m.year % 400 = 0)\n",
    "\n",
    "\"\"\"\n",
    "grader_1(query1)"
   ]
  },
  {
   "cell_type": "markdown",
   "metadata": {
    "id": "LHFSrIJlE_Ih"
   },
   "source": [
    "## Q2 --- List the names of all the actors who played in the movie 'Anand' (1971)"
   ]
  },
  {
   "cell_type": "code",
   "execution_count": 5,
   "metadata": {},
   "outputs": [
    {
     "name": "stdout",
     "output_type": "stream",
     "text": [
      "        Actor_Names\n",
      "0     Rajesh Khanna\n",
      "1  Amitabh Bachchan\n",
      "2     Sumita Sanyal\n",
      "3        Ramesh Deo\n",
      "4         Seema Deo\n",
      "5    Asit Kumar Sen\n",
      "6        Dev Kishan\n",
      "7      Atam Prakash\n",
      "8     Lalita Kumari\n",
      "9            Savita\n",
      "Wall time: 96 ms\n"
     ]
    }
   ],
   "source": [
    "%%time\n",
    "def grader_2(q2):\n",
    "    q2_results  = pd.read_sql_query(q2,conn)\n",
    "    print(q2_results.head(10))\n",
    "    assert (q2_results.shape == (17,1))\n",
    "\n",
    "query2 = \"\"\"\n",
    "select p.Name as 'Actor_Names' from Person p \n",
    "join \n",
    "(select mc.MID,mc.PID from M_cast mc where MID in(select mv.MID from Movie mv where title='Anand' and year=1971)) temp \n",
    "on temp.PID=p.PID\n",
    "\"\"\"\n",
    "grader_2(query2)"
   ]
  },
  {
   "cell_type": "markdown",
   "metadata": {
    "id": "bJ-mAUMmE_Il"
   },
   "source": [
    "## Q3 --- List all the actors who acted in a film before 1970 and in a film after 1990. (That is: < 1970 and > 1990.)"
   ]
  },
  {
   "cell_type": "code",
   "execution_count": 6,
   "metadata": {},
   "outputs": [
    {
     "name": "stdout",
     "output_type": "stream",
     "text": [
      "(4942, 1)\n",
      "(62570, 1)\n",
      "True\n",
      "Wall time: 387 ms\n"
     ]
    }
   ],
   "source": [
    "%%time\n",
    "\n",
    "def grader_3a(query_less_1970, query_more_1990):\n",
    "    q3_a = pd.read_sql_query(query_less_1970,conn)\n",
    "    print(q3_a.shape)\n",
    "    q3_b = pd.read_sql_query(query_more_1990,conn)\n",
    "    print(q3_b.shape)\n",
    "    return (q3_a.shape == (4942,1)) and (q3_b.shape == (62570,1))\n",
    "\n",
    "query_less_1970 =\"\"\" \n",
    "Select p.PID from Person p \n",
    "inner join \n",
    "(select mc.PID PD, mc.MID from M_cast mc where mc.MID in (select m.MID from Movie m where year<1970)) q1 \n",
    "on q1.PD=p.PID \n",
    "\"\"\"\n",
    "query_more_1990 =\"\"\" Select p.PID from Person p \n",
    "inner join \n",
    "(select mc.PID PD, mc.MID from M_cast mc where mc.MID in (select m.MID from Movie m where year>1990)) q1 \n",
    "on q1.PD=p.PID \n",
    "\"\"\"\n",
    "print(grader_3a(query_less_1970, query_more_1990))\n",
    "\n",
    "# using the above two queries, you can find the answer to the given question \n"
   ]
  },
  {
   "cell_type": "code",
   "execution_count": 7,
   "metadata": {},
   "outputs": [
    {
     "name": "stdout",
     "output_type": "stream",
     "text": [
      "               Name\n",
      "0      Rishi Kapoor\n",
      "1  Amitabh Bachchan\n",
      "2            Asrani\n",
      "3      Zohra Sehgal\n",
      "4   Parikshat Sahni\n",
      "5     Rakesh Sharma\n",
      "6       Sanjay Dutt\n",
      "7         Ric Young\n",
      "8             Yusuf\n",
      "9    Suhasini Mulay\n",
      "Wall time: 488 ms\n"
     ]
    }
   ],
   "source": [
    "%%time\n",
    "def grader_3(q3):\n",
    "    q3_results  = pd.read_sql_query(q3,conn)\n",
    "    print(q3_results.head(10))\n",
    "    assert (q3_results.shape == (300,1))\n",
    "\n",
    "query3 = \"\"\"\n",
    "select p.Name from Person p\n",
    "join ((select distinct MC.PID from Movie m join M_cast mc on m.MID=mc.MID where year<1970) a\n",
    "join (select distinct MC.PID from Movie m join M_cast mc on m.MID=mc.MID where year>1990) b on a.PID=b.PID) \n",
    "temp1 on p.PID =temp1.PID\n",
    "\n",
    "\"\"\"\n",
    "grader_3(query3)"
   ]
  },
  {
   "cell_type": "markdown",
   "metadata": {
    "id": "wd3tqFxaE_Ir"
   },
   "source": [
    "## Q4 --- List all directors who directed 10 movies or more, in descending order of the number of movies they directed. Return the directors' names and the number of movies each of them directed."
   ]
  },
  {
   "cell_type": "code",
   "execution_count": 8,
   "metadata": {
    "id": "aGgqAYk723th",
    "outputId": "8451f009-5585-43c6-f3bd-ae9aef0ede4a"
   },
   "outputs": [
    {
     "name": "stdout",
     "output_type": "stream",
     "text": [
      "         PID  count(md.PID)\n",
      "0  nm0223522             39\n",
      "1  nm0080315             35\n",
      "2  nm0698184             30\n",
      "3  nm0890060             30\n",
      "4  nm0080333             29\n",
      "5  nm0611531             27\n",
      "6  nm0007181             21\n",
      "7  nm0154113             19\n",
      "8  nm0759662             19\n",
      "9  nm0007131             18\n",
      "True\n",
      "Wall time: 13 ms\n"
     ]
    }
   ],
   "source": [
    "%%time\n",
    "\n",
    "def grader_4a(query_4a):\n",
    "    query_4a = pd.read_sql_query(query_4a,conn)\n",
    "    print(query_4a.head(10)) \n",
    "    return (query_4a.shape == (1462,2))\n",
    "\n",
    "#*** Write a query, which will return all the directors(id's) along with the number of movies they directed *** \n",
    "query_4a =\"\"\" \n",
    "select md.PID,count(md.PID) \n",
    "from M_Director md \n",
    "group by md.PID \n",
    "Order by count(md.PID) desc\n",
    "\"\"\"\n",
    "print(grader_4a(query_4a))\n",
    "\n",
    "# using the above query, you can write the answer to the given question"
   ]
  },
  {
   "cell_type": "code",
   "execution_count": null,
   "metadata": {},
   "outputs": [],
   "source": [
    "cursor.execute(\"select md.PID,count(md.PID) from M_Director md group by md.PID Order by count(md.PID) desc\")\n",
    "result=cursor.fetchall()\n",
    "print(len(result))"
   ]
  },
  {
   "cell_type": "code",
   "execution_count": 9,
   "metadata": {
    "id": "xROoSzcF23tn",
    "outputId": "76366cff-58f5-4d83-d58b-017c0f7afc58"
   },
   "outputs": [
    {
     "name": "stdout",
     "output_type": "stream",
     "text": [
      "          Director_Name  Movie_Count\n",
      "0          David Dhawan           39\n",
      "1          Mahesh Bhatt           35\n",
      "2       Ram Gopal Varma           30\n",
      "3          Priyadarshan           30\n",
      "4          Vikram Bhatt           29\n",
      "5  Hrishikesh Mukherjee           27\n",
      "6           Yash Chopra           21\n",
      "7        Shakti Samanta           19\n",
      "8       Basu Chatterjee           19\n",
      "9          Subhash Ghai           18\n",
      "Wall time: 30 ms\n"
     ]
    }
   ],
   "source": [
    "%%time\n",
    "def grader_4(q4):\n",
    "    q4_results  = pd.read_sql_query(q4,conn)\n",
    "    print(q4_results.head(10))\n",
    "    assert (q4_results.shape == (58,2))\n",
    "\n",
    "query4 = \"\"\" \n",
    "select distinct p.Name as Director_Name,n as Movie_Count from Person p\n",
    "join (select md.PID,count(md.PID) n from M_Director md group by md.PID having n>=10 ) temp\n",
    "on p.PID= temp.PID\n",
    "order by n desc\n",
    "\"\"\"\n",
    "grader_4(query4)"
   ]
  },
  {
   "cell_type": "code",
   "execution_count": null,
   "metadata": {},
   "outputs": [],
   "source": [
    "cursor.execute(\"select distinct p.Name from Person p join (select md.PID,count(md.PID) n from M_Director md group by md.PID having n>=10 ) temp on p.PID= temp.PID order by n desc\")\n",
    "result=cursor.fetchall()\n",
    "print(len(result))"
   ]
  },
  {
   "cell_type": "markdown",
   "metadata": {
    "id": "OnulNpiOE_Iw"
   },
   "source": [
    "## Q5.a --- For each year, count the number of movies in that year that had only female actors."
   ]
  },
  {
   "cell_type": "code",
   "execution_count": null,
   "metadata": {},
   "outputs": [],
   "source": [
    "cursor.execute(\"select p.Name,p.Gender from Person p join (select mc.MID,mc.PID from M_cast mc where MID in(select mv.MID from Movie mv)) temp on temp.PID=p.PID\")\n",
    "result=cursor.fetchall()\n",
    "print(result)"
   ]
  },
  {
   "cell_type": "code",
   "execution_count": null,
   "metadata": {},
   "outputs": [],
   "source": [
    "#cursor.execute(\"select year, count(MID) from Movie group by year\")\n",
    "cursor.execute(\"select mc.MID,p.Gender from Person p join M_cast mc on p.PID=mc.PID where Gender='Female'\")\n",
    "result=cursor.fetchone()\n",
    "print(result)\n",
    "#print(len(result))"
   ]
  },
  {
   "cell_type": "code",
   "execution_count": null,
   "metadata": {},
   "outputs": [],
   "source": [
    "#cursor.execute(\"select year, count(MID) from Movie group by year\")\n",
    "cursor.execute(\"select m.year,count(m.title),temp.Gender from Movie m join (select mc.MID,p.Gender from Person p join M_cast mc on p.PID=mc.PID where Gender='Female') temp on m.MID=temp.MID group by m.year\")\n",
    "result=cursor.fetchall()\n",
    "print(result)\n",
    "#print(len(result))"
   ]
  },
  {
   "cell_type": "code",
   "execution_count": 10,
   "metadata": {
    "id": "ES-gGiNG23tr",
    "outputId": "05e73aed-8917-4d9f-b746-619d1c48735b"
   },
   "outputs": [
    {
     "name": "stdout",
     "output_type": "stream",
     "text": [
      "         MID  Gender  count(Gender)\n",
      "0  tt0021594    None              0\n",
      "1  tt0021594  Female              3\n",
      "2  tt0021594    Male              5\n",
      "3  tt0026274    None              0\n",
      "4  tt0026274  Female             11\n",
      "5  tt0026274    Male              9\n",
      "6  tt0027256    None              0\n",
      "7  tt0027256  Female              5\n",
      "8  tt0027256    Male              8\n",
      "9  tt0028217  Female              3\n",
      "True\n",
      "         MID Gender  count(Gender)\n",
      "0  tt0021594   Male              5\n",
      "1  tt0026274   Male              9\n",
      "2  tt0027256   Male              8\n",
      "3  tt0028217   Male              7\n",
      "4  tt0031580   Male             27\n",
      "5  tt0033616   Male             46\n",
      "6  tt0036077   Male             11\n",
      "7  tt0038491   Male              7\n",
      "8  tt0039654   Male              6\n",
      "9  tt0040067   Male             10\n",
      "True\n",
      "Wall time: 581 ms\n"
     ]
    }
   ],
   "source": [
    "%%time\n",
    "\n",
    "# note that you don't need TRIM for person table\n",
    "\n",
    "# *** Write your query that will get movie id, and number of people for each geneder ***\n",
    "\n",
    "def grader_5aa(query_5aa):\n",
    "    query_5aa = pd.read_sql_query(query_5aa,conn)\n",
    "    print(query_5aa.head(10)) \n",
    "    return (query_5aa.shape == (8846,3))\n",
    "\n",
    "query_5aa =\"\"\" \n",
    "\n",
    "select mc.MID, p.Gender, count(Gender) from M_cast mc\n",
    "join Person p\n",
    "on mc.PID=p.PID\n",
    "group by mc.MID,p.Gender\n",
    "\n",
    "\"\"\"\n",
    "print(grader_5aa(query_5aa))\n",
    "\n",
    "# *** Write your query that will have at least one male actor try to use query that you have written above ***\n",
    "def grader_5ab(query_5ab):\n",
    "    query_5ab = pd.read_sql_query(query_5ab,conn)\n",
    "    print(query_5ab.head(10)) \n",
    "    return (query_5ab.shape == (3469, 3))\n",
    "\n",
    "query_5ab =\"\"\" \n",
    "select mc.MID, p.Gender, count(Gender) from M_cast mc\n",
    "join Person p\n",
    "on mc.PID=p.PID\n",
    "group by mc.MID,p.Gender\n",
    "having p.Gender='Male'\n",
    "\"\"\"\n",
    "\n",
    "print(grader_5ab(query_5ab))\n",
    "\n",
    "# using the above queries, you can write the answer to the given question"
   ]
  },
  {
   "cell_type": "code",
   "execution_count": 11,
   "metadata": {
    "colab": {
     "base_uri": "https://localhost:8080/",
     "height": 153
    },
    "id": "zQOIawPME_Ix",
    "outputId": "48450a58-61f0-4bc6-f71e-ff7df4ab7f80"
   },
   "outputs": [
    {
     "name": "stdout",
     "output_type": "stream",
     "text": [
      "   year  one\n",
      "0  1999    1\n",
      "1  1939    1\n",
      "2  2018    1\n",
      "3  2000    1\n",
      "Wall time: 288 ms\n"
     ]
    }
   ],
   "source": [
    "%%time\n",
    "def grader_5a(q5a):\n",
    "    q5a_results  = pd.read_sql_query(q5a,conn)\n",
    "    print(q5a_results.head(10))\n",
    "    assert (q5a_results.shape == (4,2))\n",
    "\n",
    "query5a = \"\"\" \n",
    "select m.year,count(m.title) one from Movie m\n",
    "join\n",
    "(select mc.MID, p.Gender, count(Gender) as cnt from M_cast mc\n",
    "join Person p on mc.PID=p.PID group by mc.MID,p.Gender) temp\n",
    "on m.MID=temp.MID\n",
    "group by m.title \n",
    "having temp.Gender='Female' and one=1\n",
    "\n",
    "\"\"\"\n",
    "grader_5a(query5a)"
   ]
  },
  {
   "cell_type": "markdown",
   "metadata": {
    "id": "cTiKejUfE_I1"
   },
   "source": [
    "## Q5.b --- Now include a small change: report for each year the percentage of movies in that year with only female actors, and the total number of movies made that year. For example, one answer will be: 1990 31.81 13522 meaning that in 1990 there were 13,522 movies, and 31.81% had only female actors. You do not need to round your answer."
   ]
  },
  {
   "cell_type": "code",
   "execution_count": 12,
   "metadata": {
    "colab": {
     "base_uri": "https://localhost:8080/",
     "height": 153
    },
    "id": "Xv6iXvcZE_I2",
    "outputId": "16958703-8f35-40d8-8489-b7269cde2d70"
   },
   "outputs": [
    {
     "name": "stdout",
     "output_type": "stream",
     "text": [
      "   year  total  (q1.Female_Cast_Only_Movies*1.00/q2.total)\n",
      "0  1999     66                                    0.015152\n",
      "1  1939      2                                    0.500000\n",
      "2  2018    104                                    0.009615\n",
      "3  2000     64                                    0.015625\n",
      "Wall time: 334 ms\n"
     ]
    }
   ],
   "source": [
    "%%time\n",
    "def grader_5b(q5b):\n",
    "    q5b_results  = pd.read_sql_query(q5b,conn)\n",
    "    print(q5b_results.head(100))\n",
    "    assert (q5b_results.shape == (4,3))\n",
    "\n",
    "query5b = \"\"\" \n",
    "\n",
    "select q1.year,q2.total,(q1.Female_Cast_Only_Movies*1.00/q2.total)  \n",
    "from \n",
    "(   \n",
    "    select m.year,count(m.title) Female_Cast_Only_Movies from Movie m\n",
    "    join\n",
    "    (select mc.MID, p.Gender, count(Gender) as cnt from M_cast mc\n",
    "    join Person p on mc.PID=p.PID group by mc.MID,p.Gender) temp\n",
    "    on m.MID=temp.MID\n",
    "    group by m.title \n",
    "    having temp.Gender like 'Female' and Female_Cast_Only_Movies =1\n",
    ")q1\n",
    "\n",
    "join\n",
    "(\n",
    "    select year, count(MID) total\n",
    "    from Movie\n",
    "    group by year\n",
    ")q2\n",
    "on q1.year=q2.year\n",
    "\n",
    "\"\"\"\n",
    "grader_5b(query5b)\n"
   ]
  },
  {
   "cell_type": "markdown",
   "metadata": {
    "id": "d5mvJcHDE_I6"
   },
   "source": [
    "## Q6 --- Find the film(s) with the largest cast. Return the movie title and the size of the cast. By \"cast size\" we mean the number of distinct actors that played in that movie: if an actor played multiple roles, or if it simply occurs multiple times in casts, we still count her/him only once."
   ]
  },
  {
   "cell_type": "code",
   "execution_count": 13,
   "metadata": {
    "colab": {
     "base_uri": "https://localhost:8080/",
     "height": 255
    },
    "id": "vpr9gGg6E_I7",
    "outputId": "bceec796-502e-4bb1-ce5e-0f8eb703e2f5"
   },
   "outputs": [
    {
     "name": "stdout",
     "output_type": "stream",
     "text": [
      "                        title  count(temp.PID)\n",
      "0               Ocean's Eight              238\n",
      "1                    Apaharan              233\n",
      "2                        Gold              215\n",
      "3             My Name Is Khan              213\n",
      "4  Captain America: Civil War              191\n",
      "5                    Geostorm              170\n",
      "6                     Striker              165\n",
      "7                        2012              154\n",
      "8                      Pixels              144\n",
      "9       Yamla Pagla Deewana 2              140\n",
      "Wall time: 728 ms\n"
     ]
    }
   ],
   "source": [
    "%%time\n",
    "def grader_6(q6):\n",
    "    q6_results  = pd.read_sql_query(q6,conn)\n",
    "    print(q6_results.head(10))\n",
    "    assert (q6_results.shape == (3473, 2))\n",
    "\n",
    "query6 = \"\"\" \n",
    "select m.title,count(temp.PID)  from Movie m \n",
    "join  (select  distinct mc.PID,m.MID  from Movie m \n",
    "       join M_Cast mc on m.MID=mc.MID group by m.MID,mc.PID) temp \n",
    "on m.MID=temp.MID\n",
    "group by m.MID\n",
    "order by count(temp.PID) desc \n",
    "\"\"\"\n",
    "grader_6(query6)\n",
    "#join  M_Cast mc on m.MID=mc.MID"
   ]
  },
  {
   "cell_type": "code",
   "execution_count": null,
   "metadata": {},
   "outputs": [],
   "source": [
    "#cursor.execute(\"select distinct m.title,mc.MID  from Movie m join M_Cast mc on m.MID=mc.MID  \")\n",
    "cursor.execute(\"select m.title,count(temp.PID)  from Movie m join  (select  distinct mc.PID,m.MID  from Movie m join M_Cast mc on m.MID=mc.MID group by mc.PID,m.MID) temp on m.MID=temp.MID group by m.title order by count(temp.PID) desc\")\n",
    "result=cursor.fetchall()\n",
    "#print(result)\n",
    "#(select distinct mc.PID,mc.MID  from Movie m join M_Cast mc on m.MID=mc.MID)"
   ]
  },
  {
   "cell_type": "code",
   "execution_count": null,
   "metadata": {},
   "outputs": [],
   "source": [
    "print(len(result))"
   ]
  },
  {
   "cell_type": "markdown",
   "metadata": {
    "id": "E6mOLxNgTby6"
   },
   "source": [
    "### Q7 --- A decade is a sequence of 10 consecutive years. \n",
    "### For example, say in your database you have movie information starting from 1931. \n",
    "### the first decade is 1931, 1932, ..., 1940,\n",
    "### the second decade is 1932, 1933, ..., 1941 and so on. \n",
    "### Find the decade D with the largest number of films and the total number of films in D"
   ]
  },
  {
   "cell_type": "code",
   "execution_count": 14,
   "metadata": {
    "id": "ZfOWt8IW23uE",
    "outputId": "2f06e789-9f45-44ed-d1d7-d628170bb6c5"
   },
   "outputs": [
    {
     "name": "stdout",
     "output_type": "stream",
     "text": [
      "   count(MID)  year\n",
      "0           1  1931\n",
      "1           3  1936\n",
      "2           2  1939\n",
      "3           1  1941\n",
      "4           1  1943\n",
      "5           2  1946\n",
      "6           2  1947\n",
      "7           3  1948\n",
      "8           3  1949\n",
      "9           2  1950\n",
      "Wall time: 8.99 ms\n"
     ]
    }
   ],
   "source": [
    "%%time\n",
    "def grader_7a(q7a):\n",
    "    q7a_results  = pd.read_sql_query(q7a,conn)\n",
    "    print(q7a_results.head(10))\n",
    "    assert (q7a_results.shape == (78, 2))\n",
    "\n",
    "query7a = \"\"\"\n",
    "\n",
    "select count(MID), year from Movie \n",
    "group by year\n",
    "\n",
    "\"\"\"\n",
    "grader_7a(query7a)\n",
    "\n",
    "#*** Write a query that computes number of movies in each year ***\n",
    "# using the above query, you can write the answer to the given question"
   ]
  },
  {
   "cell_type": "code",
   "execution_count": 15,
   "metadata": {
    "id": "sBMzLrIY23uJ",
    "outputId": "6f40ad73-684a-44f9-a7ce-c0ec253df7e7"
   },
   "outputs": [
    {
     "name": "stdout",
     "output_type": "stream",
     "text": [
      "   year  cnt  year  cnt\n",
      "0  1931    1  1931    1\n",
      "1  1931    1  1936    3\n",
      "2  1931    1  1939    2\n",
      "3  1936    3  1936    3\n",
      "4  1936    3  1939    2\n",
      "5  1936    3  1941    1\n",
      "6  1936    3  1943    1\n",
      "7  1939    2  1939    2\n",
      "8  1939    2  1941    1\n",
      "9  1939    2  1943    1\n",
      "Wall time: 21 ms\n"
     ]
    }
   ],
   "source": [
    "%%time\n",
    "def grader_7b(q7b):\n",
    "    q7b_results  = pd.read_sql_query(q7b,conn)\n",
    "    print(q7b_results.head(10))\n",
    "    assert (q7b_results.shape == (713, 4))\n",
    "\n",
    "query7b = \"\"\"   \n",
    "\n",
    "select t1.year,t1.cnt,t2.year,t2.cnt\n",
    "from\n",
    "    (select year, count(title) as cnt from Movie \n",
    "    group by year) t1\n",
    "join \n",
    "    (select year, count(title) as cnt from Movie \n",
    "    group by year) t2\n",
    "on t2.year<=t1.year+9 and (t2.year>t1.year or t2.year=t1.year)\n",
    "        \n",
    "\"\"\"\n",
    "grader_7b(query7b)\n",
    "# if you see the below results the first movie year is less than 2nd movie year and \n",
    "# 2nd movie year is less or equal to the first movie year+9\n",
    "\n",
    "# using the above query, you can write the answer to the given question\n",
    "# Write a query that will do joining of the above table(7a) with itself \n",
    "# such that you will join with only rows if the second tables year is <= current_year+9 and more than or equal current_year"
   ]
  },
  {
   "cell_type": "code",
   "execution_count": 16,
   "metadata": {
    "colab": {
     "base_uri": "https://localhost:8080/",
     "height": 255
    },
    "id": "NKqbguuqE_JA",
    "outputId": "2819ceef-0787-45f9-c38f-9648ccf787f0"
   },
   "outputs": [
    {
     "name": "stdout",
     "output_type": "stream",
     "text": [
      "  decade  total\n",
      "0   2008   1203\n",
      "Wall time: 26 ms\n"
     ]
    }
   ],
   "source": [
    "%%time\n",
    "def grader_7(q7):\n",
    "    q7_results  = pd.read_sql_query(q7,conn)\n",
    "    print(q7_results.head(10))\n",
    "    assert (q7_results.shape == (1, 2))\n",
    "\n",
    "query7 = \"\"\" \n",
    "\n",
    "with\n",
    "    decade_cal as\n",
    "    (select distinct year, year  decade_start, year+9  decade_end,year decade\n",
    "    from Movie),\n",
    "\n",
    "    movies_in_year as  \n",
    "    (select cast(substr(year,-4) as unsigned) year, count(MID) no_of_movies \n",
    "    from Movie \n",
    "    group by cast(substr(year,-4) as unsigned)), \n",
    "    \n",
    "    movies_in_decade as\n",
    "    (select sum(no_of_movies) total ,decade_cal.decade\n",
    "    from decade_cal,movies_in_year\n",
    "    where movies_in_year.year between decade_cal.decade_start and decade_cal.decade_end\n",
    "    group by decade_cal.decade)\n",
    "    \n",
    "    select decade,total from  movies_in_decade\n",
    "    where total=(select max(total) from  movies_in_decade)\n",
    "       \n",
    "\"\"\"\n",
    "grader_7(query7)\n",
    "# if you check the output we are printinng all the year in that decade, its fine you can print 2008 or 2008-2017"
   ]
  },
  {
   "cell_type": "markdown",
   "metadata": {
    "id": "Jbm3Oy3hT8d9"
   },
   "source": [
    "## Q8 --- Find all the actors that made more movies with Yash Chopra than any other director."
   ]
  },
  {
   "cell_type": "code",
   "execution_count": 17,
   "metadata": {
    "id": "DZJ7WMrk23uR",
    "outputId": "6f379ab4-bfb0-4a2f-dc6a-ae221cb65a0e"
   },
   "outputs": [
    {
     "name": "stdout",
     "output_type": "stream",
     "text": [
      "       Actor   Director  movies\n",
      "0  nm0000027  nm0000180       1\n",
      "1  nm0001114  nm0000180       1\n",
      "2  nm0001919  nm0000180       1\n",
      "3  nm0006762  nm0000180       1\n",
      "4  nm0030062  nm0000180       1\n",
      "5  nm0038970  nm0000180       1\n",
      "6  nm0051856  nm0000180       1\n",
      "7  nm0085966  nm0000180       1\n",
      "8  nm0097889  nm0000180       1\n",
      "9  nm0125497  nm0000180       1\n",
      "Wall time: 488 ms\n"
     ]
    }
   ],
   "source": [
    "%%time\n",
    "def grader_8a(q8a):\n",
    "    q8a_results  = pd.read_sql_query(q8a,conn)\n",
    "    print(q8a_results.head(10))\n",
    "    assert (q8a_results.shape == (73408, 3))\n",
    "\n",
    "query8a = \"\"\"\n",
    "\n",
    "select mc.PID as Actor,md.PID as Director,count(md.MID) as movies\n",
    "from M_Director md join M_Cast mc on md.MID=mc.MID\n",
    "group by md.PID,mc.PID\n",
    "\n",
    "\"\"\"\n",
    "grader_8a(query8a)\n",
    "\n",
    "# using the above query, you can write the answer to the given question\n",
    "#*** Write a query that will results in number of movies actor-director worked together ***"
   ]
  },
  {
   "cell_type": "code",
   "execution_count": null,
   "metadata": {},
   "outputs": [],
   "source": [
    "cursor.execute(\"select * from Person where Name ='Yash Chopra'\")\n",
    "result=cursor.fetchall()\n",
    "print(result)"
   ]
  },
  {
   "cell_type": "code",
   "execution_count": null,
   "metadata": {},
   "outputs": [],
   "source": [
    "cursor.execute(\"select * from Person where Name ='Ravikant'\")\n",
    "result=cursor.fetchall()\n",
    "print(result)"
   ]
  },
  {
   "cell_type": "code",
   "execution_count": 18,
   "metadata": {},
   "outputs": [
    {
     "name": "stdout",
     "output_type": "stream",
     "text": [
      "               Name   m\n",
      "0       Jagdish Raj  11\n",
      "1  Manmohan Krishna  10\n",
      "2          Iftekhar   9\n",
      "3     Shashi Kapoor   7\n",
      "4    Waheeda Rehman   5\n",
      "5     Rakhee Gulzar   5\n",
      "6    Achala Sachdev   4\n",
      "7       Neetu Singh   4\n",
      "8          Ravikant   4\n",
      "9   Parikshat Sahni   3\n",
      "(245, 2)\n",
      "Wall time: 711 ms\n"
     ]
    }
   ],
   "source": [
    "%%time\n",
    "\n",
    "def grader_8(q8):\n",
    "    q8_results  = pd.read_sql_query(q8,conn)\n",
    "    print(q8_results.head(10))\n",
    "    print(q8_results.shape)\n",
    "    assert (q8_results.shape == (245, 2))\n",
    "\n",
    "query8 = \"\"\"\n",
    "\n",
    "select p.Name,q1.m\n",
    "from Person p\n",
    "join\n",
    "(select a,m \n",
    "from(select mc.PID a ,md.PID d,count(md.MID) as m\n",
    "    from M_Director md \n",
    "    join M_Cast mc on md.MID=mc.MID\n",
    "    group by md.PID,mc.PID\n",
    "    ) \n",
    "where (a,m)\n",
    "in \n",
    "(select a,max(m)\n",
    "    from \n",
    "        (\n",
    "        select mc.PID a ,md.PID d,count(md.MID) as m\n",
    "        from M_Director md \n",
    "        join M_Cast mc on md.MID=mc.MID\n",
    "        group by md.PID,mc.PID\n",
    "        )     \n",
    "group by a)\n",
    "and d='nm0007181'\n",
    "order by m desc) q1\n",
    "on p.PID=q1.a\n",
    "\n",
    "\n",
    "\"\"\"\n",
    "grader_8(query8)"
   ]
  },
  {
   "cell_type": "markdown",
   "metadata": {
    "id": "2j8Fc9jUUJ9C"
   },
   "source": [
    "## Q9 --- The Shahrukh number of an actor is the length of the shortest path between the actor and Shahrukh Khan in the \"co-acting\" graph. That is, Shahrukh Khan has Shahrukh number 0; all actors who acted in the same film as Shahrukh have Shahrukh number 1; all actors who acted in the same film as some actor with Shahrukh number 1 have Shahrukh number 2, etc. Return all actors whose Shahrukh number is 2."
   ]
  },
  {
   "cell_type": "code",
   "execution_count": null,
   "metadata": {},
   "outputs": [],
   "source": [
    "cursor.execute(\"select * from Person where Name like '%shah Rukh Khan%'\")\n",
    "result=cursor.fetchall()\n",
    "print(result)"
   ]
  },
  {
   "cell_type": "code",
   "execution_count": null,
   "metadata": {},
   "outputs": [],
   "source": [
    "cursor.execute(\"select distinct MID from M_Cast mc join Person p on mc.PID=p.PID where p.Name like '%shah Rukh Khan%'\")\n",
    "result=cursor.fetchall()\n",
    "print(len(result))"
   ]
  },
  {
   "cell_type": "code",
   "execution_count": 19,
   "metadata": {},
   "outputs": [
    {
     "name": "stdout",
     "output_type": "stream",
     "text": [
      "         PID\n",
      "0  nm0004418\n",
      "1  nm1995953\n",
      "2  nm2778261\n",
      "3  nm0631373\n",
      "4  nm0241935\n",
      "5  nm0792116\n",
      "6  nm1300111\n",
      "7  nm0196375\n",
      "8  nm1464837\n",
      "9  nm2868019\n",
      "(2382, 1)\n",
      "Wall time: 264 ms\n"
     ]
    }
   ],
   "source": [
    "%%time\n",
    "def grader_9a(q9a):\n",
    "    q9a_results  = pd.read_sql_query(q9a,conn)\n",
    "    print(q9a_results.head(10))\n",
    "    print(q9a_results.shape)\n",
    "    assert (q9a_results.shape == (2382, 1))\n",
    "\n",
    "query9a = \"\"\" \n",
    "   \n",
    "select distinct PID from M_cast \n",
    "join\n",
    "(select distinct MID from M_Cast mc join Person p on mc.PID=p.PID where p.Name like '%shah Rukh Khan%'\n",
    ") q1\n",
    "on M_cast.MID=q1.MID\n",
    "where PID not like 'nm0451321'\n",
    "\n",
    "\"\"\"\n",
    "grader_9a(query9a)\n",
    "# using the above query, you can write the answer to the given question\n",
    "\n",
    "# selecting actors who acted with srk (S1)\n",
    "# selecting all movies where S1 actors acted, this forms S2 movies list\n",
    "# selecting all actors who acted in S2 movies, this gives us S2 actors along with S1 actors\n",
    "# removing S1 actors from the combined list of S1 & S2 actors, so that we get only S2 actors\n",
    "####comment by Poonam -- exclude shah Rukh Khan from list"
   ]
  },
  {
   "cell_type": "code",
   "execution_count": 20,
   "metadata": {
    "colab": {
     "base_uri": "https://localhost:8080/",
     "height": 255
    },
    "id": "5o6imc82E_JS",
    "outputId": "29de4fa8-ddbb-44ba-ad8f-12d2e48d278f"
   },
   "outputs": [
    {
     "name": "stdout",
     "output_type": "stream",
     "text": [
      "                    Name\n",
      "0           Freida Pinto\n",
      "1            Rohan Chand\n",
      "2           Damian Young\n",
      "3        Waris Ahluwalia\n",
      "4  Caroline Christl Long\n",
      "5          Rajeev Pahuja\n",
      "6      Michelle Santiago\n",
      "7        Alicia Vikander\n",
      "8           Dominic West\n",
      "9         Walton Goggins\n",
      "(25698, 1)\n",
      "Wall time: 1.63 s\n"
     ]
    }
   ],
   "source": [
    "%%time\n",
    "def grader_9(q9):\n",
    "    q9_results  = pd.read_sql_query(q9,conn)\n",
    "    print(q9_results.head(10))\n",
    "    print(q9_results.shape)\n",
    "    assert (q9_results.shape == (25698, 1))\n",
    "\n",
    "query9 = \"\"\" \n",
    "\n",
    "select name from Person\n",
    "join\n",
    "(\n",
    "    select PID from\n",
    "    (\n",
    "    select distinct M_Cast.PID from M_Cast\n",
    "    join\n",
    "    (select pid,mid from m_cast \n",
    "        where pid in\n",
    "            (select pid from m_cast where mid in\n",
    "            (select mid from m_cast where pid in\n",
    "            (select pid from person where name like \"%shah Rukh Khan%\")))\n",
    "        )q1\n",
    "        on M_cast.MID=q1.MID\n",
    "    ) \n",
    "\n",
    "    where PID not in\n",
    "    (\n",
    "    select M_Cast.PID from M_Cast\n",
    "    join\n",
    "        (select * from Person p\n",
    "        join M_Cast mc on p.PID=mc.PID \n",
    "        join Movie m on mc.MID=m.MID\n",
    "        where p.Name like '%Shah Rukh Khan%') q1\n",
    "        on M_cast.MID=q1.MID\n",
    "        )\n",
    ") temp\n",
    "on Person.PID=temp.PID\n",
    "\n",
    "\"\"\"\n",
    "grader_9(query9)"
   ]
  },
  {
   "cell_type": "code",
   "execution_count": null,
   "metadata": {},
   "outputs": [],
   "source": []
  }
 ],
 "metadata": {
  "colab": {
   "collapsed_sections": [],
   "name": "SQL sample queries.ipynb",
   "provenance": [],
   "toc_visible": true
  },
  "kernelspec": {
   "display_name": "Python 3",
   "language": "python",
   "name": "python3"
  },
  "language_info": {
   "codemirror_mode": {
    "name": "ipython",
    "version": 3
   },
   "file_extension": ".py",
   "mimetype": "text/x-python",
   "name": "python",
   "nbconvert_exporter": "python",
   "pygments_lexer": "ipython3",
   "version": "3.7.3"
  }
 },
 "nbformat": 4,
 "nbformat_minor": 1
}
